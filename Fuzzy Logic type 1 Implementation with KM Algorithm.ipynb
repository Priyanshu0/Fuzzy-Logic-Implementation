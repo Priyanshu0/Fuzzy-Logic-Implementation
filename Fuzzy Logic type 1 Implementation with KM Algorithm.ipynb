{
 "cells": [
  {
   "cell_type": "code",
   "execution_count": 7,
   "metadata": {},
   "outputs": [],
   "source": [
    "def expert_rules(input_ling_var):\n",
    "    '''\n",
    "    Inputs:\n",
    "    input = {'Food':{'Low':[0,0,5],'Medium':[2,4,8],'High':[6,10,10]},'Service':{'Bad':[0,0,5],'Medium':[3,5,7],\n",
    "    'Good':[5,10,10]},'Ambience':{'Poor':[0,2,4],'Medium':[4,6,9],'Good':[8,9,10]}}\n",
    "    Outputs:\n",
    "    {1: {'Food': {'High': [6, 10, 10]}, 'Service': {'Good': [5, 10, 10]}, 'Ambience': {'Good': [8, 9, 10]}}, \n",
    "    2: {'Food': {'Medium': [2, 4, 8]}, 'Service': {'Medium': [3, 5, 7]}, 'Ambience': {'Medium': [4, 6, 9]}},\n",
    "    3: {'Food': {'Low': [0, 0, 5]}, 'Service': {'Bad': [0, 0, 5]}, 'Ambience': {'Poor': [0, 2, 4]}}}\n",
    "    '''\n",
    "    no_resturants=int(input(\"Enter the number of resturants:\"))\n",
    "    mappings={}\n",
    "    for i in input_ling_var.keys():\n",
    "        mappings[i]={}\n",
    "        count=1\n",
    "        for j in input_ling_var[i].keys():\n",
    "            mappings[i][count]=j\n",
    "            count+=1\n",
    "    rules={}\n",
    "    for i in range(no_resturants):\n",
    "        rules[i+1]={}\n",
    "        for j in input_ling_var.keys():\n",
    "            rules[i+1][j]={}\n",
    "            print(f\"{mappings[j]}\")\n",
    "            val=int(input(f\"Enter your choice for linguistic value for resturant {i+1} and linguistic variable {j}:\"))\n",
    "            rules[i+1][j][mappings[j][val]]=input_ling_var[j][mappings[j][val]]\n",
    "    return(rules)"
   ]
  },
  {
   "cell_type": "code",
   "execution_count": 4,
   "metadata": {},
   "outputs": [],
   "source": [
    "l={'Food':{'Low':[0,0,5],'Medium':[2,4,8],'High':[6,10,10]},'Service':{'Bad':[0,0,5],'Medium':[3,5,7],'Good':[5,10,10]},'Ambience':{'Poor':[0,2,4],'Medium':[4,6,9],'Good':[8,9,10]}}"
   ]
  },
  {
   "cell_type": "code",
   "execution_count": 5,
   "metadata": {},
   "outputs": [
    {
     "name": "stdout",
     "output_type": "stream",
     "text": [
      "Enter the number of resturants:3\n",
      "{1: 'Low', 2: 'Medium', 3: 'High'}\n",
      "Enter your choice for linguistic value for resturant 1 and linguistic variable Food:3\n",
      "{1: 'Bad', 2: 'Medium', 3: 'Good'}\n",
      "Enter your choice for linguistic value for resturant 1 and linguistic variable Service:3\n",
      "{1: 'Poor', 2: 'Medium', 3: 'Good'}\n",
      "Enter your choice for linguistic value for resturant 1 and linguistic variable Ambience:3\n",
      "{1: 'Low', 2: 'Medium', 3: 'High'}\n",
      "Enter your choice for linguistic value for resturant 2 and linguistic variable Food:2\n",
      "{1: 'Bad', 2: 'Medium', 3: 'Good'}\n",
      "Enter your choice for linguistic value for resturant 2 and linguistic variable Service:2\n",
      "{1: 'Poor', 2: 'Medium', 3: 'Good'}\n",
      "Enter your choice for linguistic value for resturant 2 and linguistic variable Ambience:2\n",
      "{1: 'Low', 2: 'Medium', 3: 'High'}\n",
      "Enter your choice for linguistic value for resturant 3 and linguistic variable Food:1\n",
      "{1: 'Bad', 2: 'Medium', 3: 'Good'}\n",
      "Enter your choice for linguistic value for resturant 3 and linguistic variable Service:1\n",
      "{1: 'Poor', 2: 'Medium', 3: 'Good'}\n",
      "Enter your choice for linguistic value for resturant 3 and linguistic variable Ambience:1\n"
     ]
    },
    {
     "data": {
      "text/plain": [
       "{1: {'Food': {'High': [6, 10, 10]},\n",
       "  'Service': {'Good': [5, 10, 10]},\n",
       "  'Ambience': {'Good': [8, 9, 10]}},\n",
       " 2: {'Food': {'Medium': [2, 4, 8]},\n",
       "  'Service': {'Medium': [3, 5, 7]},\n",
       "  'Ambience': {'Medium': [4, 6, 9]}},\n",
       " 3: {'Food': {'Low': [0, 0, 5]},\n",
       "  'Service': {'Bad': [0, 0, 5]},\n",
       "  'Ambience': {'Poor': [0, 2, 4]}}}"
      ]
     },
     "execution_count": 5,
     "metadata": {},
     "output_type": "execute_result"
    }
   ],
   "source": [
    "expert_rules(l)"
   ]
  },
  {
   "cell_type": "code",
   "execution_count": 9,
   "metadata": {},
   "outputs": [],
   "source": [
    "a={1: {'Food': {'High': [6, 10, 10]},\n",
    "  'Service': {'Good': [5, 10, 10]},\n",
    "  'Ambience': {'Good': [8, 9, 10]}},\n",
    " 2: {'Food': {'Medium': [2, 4, 8]},\n",
    "  'Service': {'Medium': [3, 5, 7]},\n",
    "  'Ambience': {'Medium': [4, 6, 9]}},\n",
    " 3: {'Food': {'Low': [0, 0, 5]},\n",
    "  'Service': {'Bad': [0, 0, 5]},\n",
    "  'Ambience': {'Poor': [0, 2, 4]}}}"
   ]
  },
  {
   "cell_type": "code",
   "execution_count": 34,
   "metadata": {},
   "outputs": [],
   "source": [
    "def user_inputs(user_ling_var,input_ling_var):\n",
    "    '''\n",
    "    Inputs:\n",
    "    user_ling_val = {'Unimportant':[0,0,5],'Important':[2,4,8],'Very Important':[6,10,10]}\n",
    "    input_ling_var = {'Food':{'Low':[0,0,5],'Medium':[2,4,8],'High':[6,10,10]},'Service':{'Bad':[0,0,5],'Medium':[3,5,7],\n",
    "    'Good':[5,10,10]},'Ambience':{'Poor':[0,2,4],'Medium':[4,6,9],'Good':[8,9,10]}}\n",
    "    Outputs: \n",
    "    user_vocab = {'Food': {'Very Important': [6, 10, 10]}, 'Service': {'Unimportant': [0, 0, 5]}, \n",
    "    'Ambience': {'Important': [2, 4, 8]}}\n",
    "    '''\n",
    "    mappings={}\n",
    "    count=1\n",
    "    for i in user_ling_var.keys():\n",
    "        mappings[count]=i\n",
    "        count+=1\n",
    "    print(mappings)\n",
    "    user_vocab={}\n",
    "    for i in input_ling_var.keys():\n",
    "        user_vocab[i]={}\n",
    "        val=int(input(f\"Enter your choice for linguistic value for user for linguistic variable {i}:\"))\n",
    "        user_vocab[i][mappings[val]]=user_ling_var[mappings[val]]\n",
    "    return user_vocab\n",
    "        "
   ]
  },
  {
   "cell_type": "code",
   "execution_count": 11,
   "metadata": {},
   "outputs": [],
   "source": [
    "m={'Unimportant':[0,0,5],'Important':[2,4,8],'Very Important':[6,10,10]}"
   ]
  },
  {
   "cell_type": "code",
   "execution_count": 12,
   "metadata": {},
   "outputs": [
    {
     "name": "stdout",
     "output_type": "stream",
     "text": [
      "{1: 'Unimportant', 2: 'Important', 3: 'Very Important'}\n",
      "Enter your choice for linguistic value for user for linguistic variable Food:3\n",
      "Enter your choice for linguistic value for user for linguistic variable Service:1\n",
      "Enter your choice for linguistic value for user for linguistic variable Ambience:2\n"
     ]
    }
   ],
   "source": [
    "b=user_inputs(m,l)"
   ]
  },
  {
   "cell_type": "code",
   "execution_count": 33,
   "metadata": {},
   "outputs": [
    {
     "name": "stdout",
     "output_type": "stream",
     "text": [
      "{'Food': {'Very Important': [6, 10, 10]}, 'Service': {'Unimportant': [0, 0, 5]}, 'Ambience': {'Important': [2, 4, 8]}}\n"
     ]
    }
   ],
   "source": [
    "print(b)"
   ]
  },
  {
   "cell_type": "code",
   "execution_count": 13,
   "metadata": {},
   "outputs": [],
   "source": [
    "import numpy as np\n",
    "import matplotlib.pyplot as plt\n",
    "import skfuzzy as fuzz"
   ]
  },
  {
   "cell_type": "code",
   "execution_count": 28,
   "metadata": {},
   "outputs": [],
   "source": [
    "def weights(rules,user_vocab):\n",
    "    '''\n",
    "    Inputs:\n",
    "    rules = {1: {'Food': {'High': [6, 10, 10]}, 'Service': {'Good': [5, 10, 10]}, \n",
    "    'Ambience': {'Good': [8, 9, 10]}}, 2: {'Food': {'Medium': [2, 4, 8]}, \n",
    "    'Service': {'Medium': [3, 5, 7]}, 'Ambience': {'Medium': [4, 6, 9]}}, \n",
    "    3: {'Food': {'Low': [0, 0, 5]}, 'Service': {'Bad': [0, 0, 5]}, 'Ambience': {'Poor': [0, 2, 4]}}}\n",
    "    user_vocab = {'Food': {'Very Important': [6, 10, 10]}, 'Service': {'Unimportant': [0, 0, 5]}, \n",
    "    'Ambience': {'Important': [2, 4, 8]}}\n",
    "    Outputs:\n",
    "    l = {1: {'Food': [6, 10, 10], 'Service': [5, 10, 10], 'Ambience': [8, 9, 10]}, \n",
    "    2: {'Very Important': [6, 10, 10], 'Unimportant': [0, 0, 5], 'Important': [2, 4, 8]}, \n",
    "    3: {'Food': [2, 4, 8], 'Service': [3, 5, 7], 'Ambience': [4, 6, 9]}, \n",
    "    4: {'Very Important': [6, 10, 10], 'Unimportant': [0, 0, 5], 'Important': [2, 4, 8]}, \n",
    "    5: {'Food': [0, 0, 5], 'Service': [0, 0, 5], 'Ambience': [0, 2, 4]}, \n",
    "    6: {'Very Important': [6, 10, 10], 'Unimportant': [0, 0, 5], 'Important': [2, 4, 8]}}\n",
    "    '''\n",
    "    l={}\n",
    "    count=1\n",
    "    for i in rules.keys():\n",
    "        l[count]={}\n",
    "        l[count+1]={}\n",
    "        for j in rules[i].keys():\n",
    "            for k in rules[i][j].keys():\n",
    "                l[count][j]=rules[i][j][k]\n",
    "            for k in user_vocab[j].keys():\n",
    "                l[count+1][k]=user_vocab[j][k]\n",
    "        count+=2\n",
    "    #print(l)\n",
    "    trimf_intervals(l)\n",
    "        "
   ]
  },
  {
   "cell_type": "code",
   "execution_count": 15,
   "metadata": {},
   "outputs": [],
   "source": [
    "def jaccard_coeff(recommendation_vocab,res_vocab,alpha):\n",
    "    for i in range(len(recommendation_vocab)):\n",
    "        for j in range(len(recommendation_vocab[i])):\n",
    "            for k in range(len(recommendation_vocab[i][j])):\n",
    "                recommendation_vocab[i][j][k]=list(np.around((np.arange(recommendation_vocab[i][j][k][0],recommendation_vocab[i][j][k][1]+alpha,alpha)),2))\n",
    "    #print(recommendation_vocab)\n",
    "    \n",
    "    for i in res_vocab.keys():\n",
    "        for j in range(len(res_vocab[i])):\n",
    "            res_vocab[i][j]=list(np.around(np.arange(res_vocab[i][j][0],res_vocab[i][j][1]+alpha,alpha),2))\n",
    "    #print(res_vocab)\n",
    "                \n",
    "    count=1\n",
    "    z_coeff={}\n",
    "    for i in res_vocab.keys():\n",
    "        l1=len(recommendation_vocab[0][0])\n",
    "        z_num=[0]*l1\n",
    "        z_den=[0]*l1\n",
    "        for j in range(len(res_vocab[i])):\n",
    "            #print(res_vocab[i][j])\n",
    "            for k in range(l1):\n",
    "                #print(len(set(recommendation_vocab[0][j][k]).intersection(set(res_vocab[i][j]))))\n",
    "                z_num[k]+=len(set(recommendation_vocab[0][j][k]) & set(res_vocab[i][j]))\n",
    "                z_den[k]+=len(recommendation_vocab[0][j][k] + res_vocab[i][j])\n",
    "        z_val=[]\n",
    "        for i in range(len(z_num)):\n",
    "            if(z_den[i]!=0):\n",
    "                z_val.append(z_num[i]/z_den[i])\n",
    "            else:\n",
    "                z_val.append(0)\n",
    "        z_coeff[count]=z_val\n",
    "        count+=1\n",
    "    print(z_coeff)"
   ]
  },
  {
   "cell_type": "code",
   "execution_count": 16,
   "metadata": {},
   "outputs": [],
   "source": [
    "a={1: {'Food': {'High': [6, 10, 10]}, 'Service': {'Good': [5, 10, 10]}, 'Ambience': {'Good': [8, 9, 10]}}, 2: {'Food': {'Medium': [2, 4, 8]}, 'Service': {'Medium': [3, 5, 7]}, 'Ambience': {'Medium': [4, 6, 9]}}, 3: {'Food': {'Low': [0, 0, 5]}, 'Service': {'Bad': [0, 0, 5]}, 'Ambience': {'Poor': [0, 2, 4]}}}"
   ]
  },
  {
   "cell_type": "code",
   "execution_count": 17,
   "metadata": {},
   "outputs": [],
   "source": [
    "b={'Food': {'Very Important': [6, 10, 10]}, 'Service': {'Unimportant': [0, 0, 5]}, 'Ambience': {'Important': [2, 4, 8]}}"
   ]
  },
  {
   "cell_type": "code",
   "execution_count": 29,
   "metadata": {},
   "outputs": [],
   "source": [
    "c={'user1':{'LeastRecommended':[0,1,3],'MediumRecommended':[3,4,5],'Recommended':[5,6,7],'HighlyRecommended':[7,9,10]}}"
   ]
  },
  {
   "cell_type": "code",
   "execution_count": 30,
   "metadata": {},
   "outputs": [],
   "source": [
    "d={1: [[5.92, 10.0], [6.15, 9.99], [6.38, 9.99], [6.6, 9.98], [6.81, 9.97], [7.02, 9.96], [7.23, 9.95], [7.43, 9.94], [7.63, 9.93], [7.82, 9.92], [8.02, 9.9], [8.2, 9.89], [8.39, 9.87], [8.57, 9.86], [8.74, 9.84], [8.9, 9.82], [9.06, 9.8], [9.22, 9.78], [9.38, 9.76], [9.55, 9.74], [9.71, 9.71]], 3: [[2.33, 8.57], [2.45, 8.38], [2.56, 8.2], [2.67, 8.01], [2.79, 7.82], [2.9, 7.62], [3.01, 7.43], [3.13, 7.24], [3.24, 7.04], [3.35, 6.84], [3.46, 6.64], [3.57, 6.44], [3.68, 6.24], [3.8, 6.04], [3.91, 5.83], [4.02, 5.62], [4.13, 5.42], [4.24, 5.21], [4.35, 5.0], [4.46, 4.79], [4.57, 4.57]], 5: [[0.0, 4.88], [0.01, 4.64], [0.03, 4.41], [0.04, 4.17], [0.06, 3.94], [0.08, 3.71], [0.1, 3.48], [0.12, 3.27], [0.14, 3.09], [0.17, 2.9], [0.19, 2.71], [0.22, 2.52], [0.25, 2.32], [0.29, 2.12], [0.32, 1.91], [0.36, 1.7], [0.39, 1.48], [0.44, 1.26], [0.48, 1.03], [0.52, 0.8], [0.57, 0.57]]}"
   ]
  },
  {
   "cell_type": "code",
   "execution_count": 31,
   "metadata": {},
   "outputs": [],
   "source": [
    "e=[[[[0.0, 3.0], [3.0, 5.0], [5.0, 7.0], [7.0, 10.0]], [[0.05, 2.9], [3.05, 4.95], [5.05, 6.95], [7.1, 9.95]], [[0.1, 2.8], [3.1, 4.9], [5.1, 6.9], [7.2, 9.9]], [[0.15, 2.7], [3.15, 4.85], [5.15, 6.85], [7.3, 9.85]], [[0.2, 2.6], [3.2, 4.8], [5.2, 6.8], [7.4, 9.8]], [[0.25, 2.5], [3.25, 4.75], [5.25, 6.75], [7.5, 9.75]], [[0.3, 2.4], [3.3, 4.7], [5.3, 6.7], [7.6, 9.7]], [[0.35, 2.3], [3.35, 4.65], [5.35, 6.65], [7.7, 9.65]], [[0.4, 2.2], [3.4, 4.6], [5.4, 6.6], [7.8, 9.6]], [[0.45, 2.1], [3.45, 4.55], [5.45, 6.55], [7.9, 9.55]], [[0.5, 2.0], [3.5, 4.5], [5.5, 6.5], [8.0, 9.5]], [[0.55, 1.9], [3.55, 4.45], [5.55, 6.45], [8.1, 9.45]], [[0.6, 1.8], [3.6, 4.4], [5.6, 6.4], [8.2, 9.4]], [[0.65, 1.7], [3.65, 4.35], [5.65, 6.35], [8.3, 9.35]], [[0.7, 1.6], [3.7, 4.3], [5.7, 6.3], [8.4, 9.3]], [[0.75, 1.5], [3.75, 4.25], [5.75, 6.25], [8.5, 9.25]], [[0.8, 1.4], [3.8, 4.2], [5.8, 6.2], [8.6, 9.2]], [[0.85, 1.3], [3.85, 4.15], [5.85, 6.15], [8.7, 9.15]], [[0.9, 1.2], [3.9, 4.1], [5.9, 6.1], [8.8, 9.1]], [[0.95, 1.1], [3.95, 4.05], [5.95, 6.05], [8.9, 9.05]], [[1.0, 1.0], [4.0, 4.0], [6.0, 6.0], [9.0, 9.0]]]]"
   ]
  },
  {
   "cell_type": "code",
   "execution_count": 257,
   "metadata": {},
   "outputs": [
    {
     "name": "stdout",
     "output_type": "stream",
     "text": [
      "{1: [0.0, 0.0, 0.04326923076923077, 0.3980515916575192], 2: [0.014544344995931652, 0.22241202596515203, 0.21311475409836064, 0.05258340113913751], 3: [0.3726818830242511, 0.0984920527102296, 0.0, 0.0]}\n"
     ]
    }
   ],
   "source": [
    "zacard_coeff(e,d,0.01)"
   ]
  },
  {
   "cell_type": "code",
   "execution_count": 32,
   "metadata": {},
   "outputs": [
    {
     "name": "stdout",
     "output_type": "stream",
     "text": [
      "{1: {'Food': [6, 10, 10], 'Service': [5, 10, 10], 'Ambience': [8, 9, 10]}, 2: {'Very Important': [6, 10, 10], 'Unimportant': [0, 0, 5], 'Important': [2, 4, 8]}, 3: {'Food': [2, 4, 8], 'Service': [3, 5, 7], 'Ambience': [4, 6, 9]}, 4: {'Very Important': [6, 10, 10], 'Unimportant': [0, 0, 5], 'Important': [2, 4, 8]}, 5: {'Food': [0, 0, 5], 'Service': [0, 0, 5], 'Ambience': [0, 2, 4]}, 6: {'Very Important': [6, 10, 10], 'Unimportant': [0, 0, 5], 'Important': [2, 4, 8]}}\n"
     ]
    },
    {
     "data": {
      "image/png": "[encoded data removed]",
      "text/plain": [
       "<Figure size 576x216 with 1 Axes>"
      ]
     },
     "metadata": {
      "needs_background": "light"
     },
     "output_type": "display_data"
    },
    {
     "data": {
      "image/png": "[encoded data removed]",
      "text/plain": [
       "<Figure size 576x216 with 1 Axes>"
      ]
     },
     "metadata": {
      "needs_background": "light"
     },
     "output_type": "display_data"
    },
    {
     "data": {
      "image/png": "[encoded data removed]",
      "text/plain": [
       "<Figure size 576x216 with 1 Axes>"
      ]
     },
     "metadata": {
      "needs_background": "light"
     },
     "output_type": "display_data"
    },
    {
     "data": {
      "text/plain": [
       "<Figure size 432x288 with 0 Axes>"
      ]
     },
     "metadata": {},
     "output_type": "display_data"
    }
   ],
   "source": [
    "weights(a,b)"
   ]
  },
  {
   "cell_type": "code",
   "execution_count": 35,
   "metadata": {},
   "outputs": [],
   "source": [
    "def avg(x_lower,x_upper):\n",
    "    '''\n",
    "    Inputs: Takes the two bounds of the range\n",
    "    x_lower=2\n",
    "    x_upper=9\n",
    "    Outputs:\n",
    "    (9+2)/2'''\n",
    "    return (x_lower+x_upper)/2"
   ]
  },
  {
   "cell_type": "code",
   "execution_count": 22,
   "metadata": {},
   "outputs": [],
   "source": [
    "def IWA(x_in,w_in):\n",
    "    '''\n",
    "    Inputs:\n",
    "    x_in = [[7.0, 10.0]]\n",
    "    w_in = [[0.0, 4.0]]\n",
    "    Outputs:\n",
    "    [4,6]\n",
    "    '''\n",
    "    \n",
    "    #calculating y min\n",
    "    \n",
    "    #creating a dict of lower bounds in x_in\n",
    "    a={}\n",
    "    for i in range(len(x_in)):\n",
    "        a[i]=x_in[i][0]\n",
    "    \n",
    "    #sorting the dictionary a in ascending order of values\n",
    "    a=sorted(a.items(),key = lambda l:(l[1], l[0])) #a is now a list with key value pair as tuples\n",
    "    \n",
    "    #removing the keys from a\n",
    "    new_a=[]\n",
    "    for i in range(len(a)):\n",
    "        new_a.append(a[i][1])\n",
    "        \n",
    "    #arranging w_in according to the sorted 'a'\n",
    "    w_min=[]\n",
    "    for i in range(len(a)):\n",
    "        w_min.append(w_in[a[i][0]])\n",
    "    \n",
    "    #calculating average of the weighted intervals 'w_min'\n",
    "    wmin_avg=[]\n",
    "    for i in range(len(w_min)):\n",
    "        wmin_avg.append(avg(w_min[i][0],w_min[i][1]))\n",
    "    \n",
    "    #calcualting the starting y min\n",
    "    sum_wj=sum_wi=0\n",
    "    for i in range(len(new_a)):\n",
    "        sum_wj+=new_a[i]*wmin_avg[i]\n",
    "        sum_wi+=wmin_avg[i]\n",
    "    \n",
    "    ymin_approx=sum_wj/sum_wi\n",
    "    \n",
    "    ymin_old=ymin_approx\n",
    "    \n",
    "    #iterations of KM Algorithm for ymin\n",
    "    L=0\n",
    "    while(True):\n",
    "        \n",
    "        #finding L* and L*+1\n",
    "        for i in range(len(new_a)-1):\n",
    "            if(ymin_old>=new_a[i] and ymin_old<=new_a[i+1]):\n",
    "                L=new_a[i]\n",
    "                break\n",
    "        \n",
    "        nsum_wj=nsum_wi=0\n",
    "        for i in range(len(new_a)):\n",
    "            if(new_a[i]<=L):\n",
    "                nsum_wj+=new_a[i]*w_min[i][1]\n",
    "                nsum_wi+=w_min[i][1]\n",
    "            else:\n",
    "                nsum_wj+=new_a[i]*w_min[i][0]\n",
    "                nsum_wi+=w_min[i][0]\n",
    "        \n",
    "        #finding the new y min\n",
    "        ymin_new=nsum_wj/nsum_wi\n",
    "        \n",
    "        if(ymin_new==ymin_old):\n",
    "            break\n",
    "        ymin_old=ymin_new\n",
    "    \n",
    "    #assinging the finally obtanied ymin_old\n",
    "    \n",
    "    ymin=ymin_old\n",
    "    \n",
    "    #calculating y max\n",
    "    \n",
    "    #creating a dictionary of upper bounds in x_in\n",
    "    \n",
    "    b={}\n",
    "    for i in range(len(x_in)):\n",
    "        b[i]=x_in[i][1]\n",
    "    \n",
    "    #sorting the dictionary b in ascending order of values\n",
    "    b=sorted(b.items(),key = lambda l:(l[1], l[0])) #b is now a list with key value pair as tuples\n",
    "    \n",
    "    #removing the keys from b\n",
    "    new_b=[]\n",
    "    for i in range(len(b)):\n",
    "        new_b.append(b[i][1])\n",
    "    \n",
    "    #arranging w_in according to the sorted 'b'\n",
    "    w_max=[]\n",
    "    for i in range(len(b)):\n",
    "        w_max.append(w_in[b[i][0]])\n",
    "    \n",
    "    #calcualting the starting y max\n",
    "    sum_wj_max=sum_wi_max=0\n",
    "    for i in range(len(new_b)):\n",
    "        sum_wj_max+=new_b[i]*wmin_avg[i]\n",
    "        sum_wi_max+=wmin_avg[i]\n",
    "    \n",
    "    ymax_approx=sum_wj_max/sum_wi_max\n",
    "    \n",
    "    ymax_old=ymax_approx\n",
    "    #iterations of KM Algorithm for ymax\n",
    "    R=0\n",
    "    while(True):\n",
    "        \n",
    "        #finding R* and R*+1\n",
    "        for i in range(len(new_b)-1):\n",
    "            if(ymax_old>=new_b[i] and ymax_old<=new_b[i+1]):\n",
    "                R=new_b[i]\n",
    "                break\n",
    "                \n",
    "        nsum_wj_max=nsum_wi_max=0\n",
    "        \n",
    "        for i in range(len(new_b)):\n",
    "            if(new_b[i]<=R):\n",
    "                nsum_wj_max+=new_b[i]*w_max[i][0]\n",
    "                nsum_wi_max+=w_max[i][0]\n",
    "            else:\n",
    "                nsum_wj_max+=new_b[i]*w_max[i][1]\n",
    "                nsum_wi_max+=w_max[i][1]\n",
    "        \n",
    "        #finding the new ymax\n",
    "        ymax_new=nsum_wj_max/nsum_wi_max\n",
    "\n",
    "        if(ymax_new==ymax_old):\n",
    "            break\n",
    "        \n",
    "        ymax_old=ymax_new\n",
    "        \n",
    "    ymax=ymax_old\n",
    "    \n",
    "    return([ymin,ymax])\n",
    "                "
   ]
  },
  {
   "cell_type": "code",
   "execution_count": 23,
   "metadata": {},
   "outputs": [],
   "source": [
    "def trimf_intervals(inputs):\n",
    "    #making a list of x and y coordinates for each of the three points of the triangular function\n",
    "    inputs_coord={}\n",
    "    for i in inputs.keys():\n",
    "        inputs_coord[i]={}\n",
    "        for j in inputs[i].keys():\n",
    "            inputs_coord[i][j]=[]\n",
    "            for k in range(len(inputs[i][j])):\n",
    "                if k%2==0:\n",
    "                    inputs_coord[i][j].append((inputs[i][j][k],0))\n",
    "                else:\n",
    "                    inputs_coord[i][j].append((inputs[i][j][k],1))\n",
    "    #print(inputs_coord)\n",
    "    #calculating slope for each of the two lines of the triangular function\n",
    "    slopes={}\n",
    "    for i in inputs_coord.keys():\n",
    "        slopes[i]={}\n",
    "        for j in inputs_coord[i].keys():\n",
    "            if(inputs_coord[i][j][0][0]-inputs_coord[i][j][1][0]!=0):\n",
    "                s1=(inputs_coord[i][j][0][1]-inputs_coord[i][j][1][1])/(inputs_coord[i][j][0][0]-inputs_coord[i][j][1][0])\n",
    "            else:\n",
    "                s1=float(\"inf\")\n",
    "            if(inputs_coord[i][j][1][0]-inputs_coord[i][j][2][0]!=0):\n",
    "                s2=(inputs_coord[i][j][1][1]-inputs_coord[i][j][2][1])/(inputs_coord[i][j][1][0]-inputs_coord[i][j][2][0])\n",
    "            else:\n",
    "                s2=float(\"inf\")\n",
    "            slopes[i][j]=[s1,s2]\n",
    "    #print(slopes)\n",
    "    alpha_intervals={}\n",
    "    for alpha in np.arange(0,1.05,0.05):\n",
    "        alpha_r=round(alpha,2)\n",
    "        alpha_intervals[alpha_r]={}\n",
    "        for i in inputs_coord.keys():\n",
    "            alpha_intervals[alpha_r][i]={}\n",
    "            for j in inputs_coord[i].keys():\n",
    "                alpha_intervals[alpha_r][i][j]=[]\n",
    "                for k in range(len(slopes[i][j])):\n",
    "                    if slopes[i][j][k]!=float('inf'):\n",
    "                        x=round(((alpha_r-inputs_coord[i][j][k][1])/slopes[i][j][k])+inputs_coord[i][j][k][0],2)\n",
    "                    else:\n",
    "                        x=round(inputs_coord[i][j][k][0],2)\n",
    "                    alpha_intervals[alpha_r][i][j].append(x)\n",
    "    #print(alpha_intervals)\n",
    "    intervals={}\n",
    "    for i in alpha_intervals.keys():\n",
    "        for j in alpha_intervals[i].keys():\n",
    "            if j not in intervals.keys():\n",
    "                intervals[j]=[]\n",
    "            l=[]\n",
    "            for k in alpha_intervals[i][j].keys():\n",
    "                l.append(alpha_intervals[i][j][k])\n",
    "            intervals[j].append(l)\n",
    "    #print(intervals)\n",
    "    intervals_list=[]\n",
    "    for i in intervals:\n",
    "        intervals_list.append(intervals[i])\n",
    "    #print(intervals_list)\n",
    "    avg_IWA={}\n",
    "    for i in range(0,len(intervals_list),2):\n",
    "        avg_IWA[i+1]=[]\n",
    "        for j in range(len(intervals_list[i])):\n",
    "            IWA_input1=intervals_list[i][j]\n",
    "            IWA_input2=intervals_list[i+1][j]\n",
    "            avg_interval=IWA(IWA_input1,IWA_input2)\n",
    "            avg_interval[0]=round(avg_interval[0],2)\n",
    "            avg_interval[1]=round(avg_interval[1],2)\n",
    "            avg_IWA[i+1].append(avg_interval)\n",
    "    #print(avg_IWA)\n",
    "    lower_bounds={}\n",
    "    upper_bounds={}\n",
    "    for i in avg_IWA.keys():\n",
    "        lower_bounds[i]=[]\n",
    "        upper_bounds[i]=[]\n",
    "        for j in range(len(avg_IWA[i])):\n",
    "            lower_bounds[i].append(avg_IWA[i][j][0])\n",
    "            upper_bounds[i].append(avg_IWA[i][j][1])\n",
    "    #print(lower_bounds,upper_bounds)\n",
    "    \n",
    "    alpha_list=[]\n",
    "    for i in np.arange(0,1.05,0.05):\n",
    "        alpha_list.append(round(i,2))\n",
    "    #print(alpha_list)\n",
    "    \n",
    "    colours=['b','g','r','c','m','y','k']\n",
    "    for i in avg_IWA.keys():\n",
    "        fig,ax0 = plt.subplots(figsize=(8, 3))\n",
    "        ax0.plot(lower_bounds[i],alpha_list, colours[i%7], linewidth=0.5, linestyle='--',label=i)\n",
    "        ax0.plot(upper_bounds[i],alpha_list, colours[i%7], linewidth=0.5, linestyle='--',label=i)\n",
    "        ax0.spines['top'].set_visible(False)\n",
    "        ax0.spines['right'].set_visible(False)\n",
    "        ax0.get_xaxis().tick_bottom()\n",
    "        ax0.get_yaxis().tick_left()\n",
    "        ax0.margins(y=0)\n",
    "    plt.show()\n",
    "    plt.tight_layout()"
   ]
  },
  {
   "cell_type": "code",
   "execution_count": 25,
   "metadata": {},
   "outputs": [],
   "source": [
    "def intervals(inputs):\n",
    "    #making a list of x and y coordinates for each of the three points of the triangular function\n",
    "    inputs_coord={}\n",
    "    for i in inputs.keys():\n",
    "        inputs_coord[i]={}\n",
    "        for j in inputs[i].keys():\n",
    "            inputs_coord[i][j]=[]\n",
    "            for k in range(len(inputs[i][j])):\n",
    "                if k%2==0:\n",
    "                    inputs_coord[i][j].append((inputs[i][j][k],0))\n",
    "                else:\n",
    "                    inputs_coord[i][j].append((inputs[i][j][k],1))\n",
    "    #print(inputs_coord)\n",
    "    #calculating slope for each of the two lines of the triangular function\n",
    "    slopes={}\n",
    "    for i in inputs_coord.keys():\n",
    "        slopes[i]={}\n",
    "        for j in inputs_coord[i].keys():\n",
    "            if(inputs_coord[i][j][0][0]-inputs_coord[i][j][1][0]!=0):\n",
    "                s1=(inputs_coord[i][j][0][1]-inputs_coord[i][j][1][1])/(inputs_coord[i][j][0][0]-inputs_coord[i][j][1][0])\n",
    "            else:\n",
    "                s1=float(\"inf\")\n",
    "            if(inputs_coord[i][j][1][0]-inputs_coord[i][j][2][0]!=0):\n",
    "                s2=(inputs_coord[i][j][1][1]-inputs_coord[i][j][2][1])/(inputs_coord[i][j][1][0]-inputs_coord[i][j][2][0])\n",
    "            else:\n",
    "                s2=float(\"inf\")\n",
    "            slopes[i][j]=[s1,s2]\n",
    "    #print(slopes)\n",
    "    alpha_intervals={}\n",
    "    for alpha in np.arange(0,1.05,0.05):\n",
    "        alpha_r=round(alpha,2)\n",
    "        alpha_intervals[alpha_r]={}\n",
    "        for i in inputs_coord.keys():\n",
    "            alpha_intervals[alpha_r][i]={}\n",
    "            for j in inputs_coord[i].keys():\n",
    "                alpha_intervals[alpha_r][i][j]=[]\n",
    "                for k in range(len(slopes[i][j])):\n",
    "                    if slopes[i][j][k]!=float('inf'):\n",
    "                        x=round(((alpha_r-inputs_coord[i][j][k][1])/slopes[i][j][k])+inputs_coord[i][j][k][0],2)\n",
    "                    else:\n",
    "                        x=round(inputs_coord[i][j][k][0],2)\n",
    "                    alpha_intervals[alpha_r][i][j].append(x)\n",
    "    #print(alpha_intervals)\n",
    "    intervals={}\n",
    "    for i in alpha_intervals.keys():\n",
    "        for j in alpha_intervals[i].keys():\n",
    "            if j not in intervals.keys():\n",
    "                intervals[j]=[]\n",
    "            l=[]\n",
    "            for k in alpha_intervals[i][j].keys():\n",
    "                l.append(alpha_intervals[i][j][k])\n",
    "            intervals[j].append(l)\n",
    "    #print(intervals)\n",
    "    intervals_list=[]\n",
    "    for i in intervals:\n",
    "        intervals_list.append(intervals[i])\n",
    "    print(intervals_list)"
   ]
  },
  {
   "cell_type": "code",
   "execution_count": 26,
   "metadata": {},
   "outputs": [
    {
     "ename": "NameError",
     "evalue": "name 'c' is not defined",
     "output_type": "error",
     "traceback": [
      "\u001b[0;31m---------------------------------------------------------------------------\u001b[0m",
      "\u001b[0;31mNameError\u001b[0m                                 Traceback (most recent call last)",
      "\u001b[0;32m<ipython-input-26-8546eb4f92b3>\u001b[0m in \u001b[0;36m<module>\u001b[0;34m\u001b[0m\n\u001b[0;32m----> 1\u001b[0;31m \u001b[0mintervals\u001b[0m\u001b[0;34m(\u001b[0m\u001b[0mc\u001b[0m\u001b[0;34m)\u001b[0m\u001b[0;34m\u001b[0m\u001b[0;34m\u001b[0m\u001b[0m\n\u001b[0m",
      "\u001b[0;31mNameError\u001b[0m: name 'c' is not defined"
     ]
    }
   ],
   "source": [
    "intervals(c)"
   ]
  },
  {
   "cell_type": "code",
   "execution_count": 32,
   "metadata": {},
   "outputs": [],
   "source": [
    "n={'temperature':{'cold':[0,0,5],'hot':[5,10,10]},'weight':{'w1':[0,0,5],'w3':[5,10,10]}}"
   ]
  }
 ],
 "metadata": {
  "kernelspec": {
   "display_name": "Python 3",
   "language": "python",
   "name": "python3"
  },
  "language_info": {
   "codemirror_mode": {
    "name": "ipython",
    "version": 3
   },
   "file_extension": ".py",
   "mimetype": "text/x-python",
   "name": "python",
   "nbconvert_exporter": "python",
   "pygments_lexer": "ipython3",
   "version": "3.7.5"
  }
 },
 "nbformat": 4,
 "nbformat_minor": 2
}
